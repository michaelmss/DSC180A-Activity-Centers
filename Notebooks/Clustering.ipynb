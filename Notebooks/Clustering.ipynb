{
 "cells": [
  {
   "cell_type": "markdown",
   "metadata": {},
   "source": [
    "## Imports"
   ]
  },
  {
   "cell_type": "code",
   "execution_count": null,
   "metadata": {},
   "outputs": [],
   "source": [
    "import geopandas as gpd\n",
    "import matplotlib\n",
    "import matplotlib.pyplot as plt\n",
    "from sklearn.cluster import DBSCAN\n",
    "from sklearn.preprocessing import StandardScaler\n",
    "from sklearn.cluster import KMeans\n",
    "import numpy as np"
   ]
  },
  {
   "cell_type": "markdown",
   "metadata": {},
   "source": [
    "## Data"
   ]
  },
  {
   "cell_type": "code",
   "execution_count": null,
   "metadata": {},
   "outputs": [],
   "source": [
    "gdf = gpd.read_file(\"../data/SANGIS/BUSINESS_SITES/BUSINESS_SITES.shp\")"
   ]
  },
  {
   "cell_type": "code",
   "execution_count": null,
   "metadata": {},
   "outputs": [],
   "source": [
    "gdf"
   ]
  },
  {
   "cell_type": "markdown",
   "metadata": {},
   "source": [
    "## Clustering Function"
   ]
  },
  {
   "cell_type": "code",
   "execution_count": null,
   "metadata": {},
   "outputs": [],
   "source": [
    "\n",
    "def clustering(import_df):\n",
    "    import_df['x'] = import_df['geometry'].x\n",
    "    import_df['y'] = import_df['geometry'].y\n",
    "\n",
    "    hexes = matplotlib.pyplot.hexbin( x= import_df['x'], y=import_df['y'],mincnt=1,gridsize=3970)\n",
    "    hexbins = gpd.points_from_xy(x=[i[0] for i in hexes.get_offsets()],y=[i[1] for i in hexes.get_offsets()])[1:]\n",
    "    left_merge = gpd.GeoDataFrame(hexbins, geometry=0)\n",
    "    full_merge = gpd.sjoin_nearest(left_merge,import_df,how='right')\n",
    "    index_and_counts = full_merge.groupby('index_left').count().sort_values(by='x').reset_index()[['index_left','APN',]]\n",
    "    def get_x(index):\n",
    "        return hexbins[index].x\n",
    "    def get_y(index):\n",
    "        return hexbins[index].y\n",
    "    index_and_counts['x'] = index_and_counts['index_left'].apply(get_x)\n",
    "    index_and_counts['y'] = index_and_counts['index_left'].apply(get_y)\n",
    "    index_and_counts['geometry'] = gpd.points_from_xy(index_and_counts['x'], index_and_counts['y'])\n",
    "    df = gpd.GeoDataFrame(index_and_counts)\n",
    "    df['is_center'] = df['APN']>df['APN'].sort_values(ascending=False).reset_index(drop=True)[70]\n",
    "    df.plot(column='is_center')\n",
    "    # clustering based off local maxima centers using kmeans\n",
    "    cluster_centers = df[df['is_center']==True][['x', 'y']].values\n",
    "    other_points = df[['x', 'y']].values\n",
    "    k = len(cluster_centers)\n",
    "    kmeans = KMeans(n_clusters=k, init=cluster_centers, n_init=1)\n",
    "    kmeans.fit(other_points)\n",
    "    df['cluster'] = kmeans.labels_\n",
    "    return df"
   ]
  },
  {
   "cell_type": "code",
   "execution_count": null,
   "metadata": {},
   "outputs": [],
   "source": [
    "clustering(gdf[gdf['BUSTYPE']=='CAFE-FAST FOOD']).plot(column='cluster')"
   ]
  },
  {
   "cell_type": "code",
   "execution_count": null,
   "metadata": {},
   "outputs": [],
   "source": []
  }
 ],
 "metadata": {
  "kernelspec": {
   "display_name": "dt_employment_center",
   "language": "python",
   "name": "python3"
  },
  "language_info": {
   "codemirror_mode": {
    "name": "ipython",
    "version": 3
   },
   "file_extension": ".py",
   "mimetype": "text/x-python",
   "name": "python",
   "nbconvert_exporter": "python",
   "pygments_lexer": "ipython3",
   "version": "3.12.0"
  }
 },
 "nbformat": 4,
 "nbformat_minor": 2
}
